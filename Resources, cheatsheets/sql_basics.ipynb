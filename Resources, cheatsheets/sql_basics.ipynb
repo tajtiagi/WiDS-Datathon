{
 "cells": [
  {
   "cell_type": "markdown",
   "metadata": {},
   "source": [
    "you made this notebook based on sqlbolt to understand sql (https://sqlbolt.com/lesson/select_queries_introduction)\n",
    "\n",
    "good job, have some tea 🍵"
   ]
  },
  {
   "cell_type": "code",
   "execution_count": null,
   "metadata": {
    "vscode": {
     "languageId": "sql"
    }
   },
   "outputs": [],
   "source": [
    "\"kiválasztja az összes oszlopot az adatból\"\n",
    "SELECT * \n",
    "FROM mytable;\n",
    "\"specific cols\"\n",
    "SELECT column, another_column, …\n",
    "FROM mytable;"
   ]
  },
  {
   "cell_type": "code",
   "execution_count": null,
   "metadata": {
    "vscode": {
     "languageId": "sql"
    }
   },
   "outputs": [],
   "source": [
    "\"conditional kiválasztás\"\n",
    "SELECT column, another_column, …\n",
    "FROM mytable\n",
    "WHERE condition\n",
    "    AND/OR another_condition\n",
    "    AND/OR …;"
   ]
  },
  {
   "cell_type": "markdown",
   "metadata": {},
   "source": [
    "BETWEEN … AND …\t| Number is within range of two values (inclusive)|col_name BETWEEN 1.5 AND 10.5\n",
    "\n",
    "NOT BETWEEN … AND …\t|Number is not within range of two values (inclusive) |col_name NOT BETWEEN 1 AND 10\n",
    "\n",
    "IN (…)\t| Number exists in a list | col_name IN (2, 4, 6)\n",
    "\n",
    "NOT IN (…)\t| Number does not exist in a list\t| col_name NOT IN (1, 3, 5)"
   ]
  },
  {
   "cell_type": "markdown",
   "metadata": {},
   "source": [
    "**=**\tCase sensitive exact string comparison (notice the single equals)\tcol_name = \"abc\"\n",
    "\n",
    "**!= or <>**\tCase sensitive exact string inequality comparison\tcol_name != \"abcd\"\n",
    "\n",
    "**LIKE**\tCase insensitive exact string comparison\tcol_name LIKE \"ABC\"\n",
    "\n",
    "**NOT LIKE**\tCase insensitive exact string inequality comparison\tcol_name NOT LIKE \"ABCD\"\n",
    "\n",
    "**%** Used anywhere in a string to match a sequence of zero or more characters (only with LIKE or NOT LIKE)\tcol_name LIKE \"%AT%\"\n",
    "(matches \"AT\", \"ATTIC\", \"CAT\" or even \"BATS\")\n",
    "\n",
    "**_**\tUsed anywhere in a string to match a single character (only with LIKE or NOT LIKE)\tcol_name LIKE \"AN_\"\n",
    "(matches \"AND\", but not \"AN\")\n",
    "\n",
    "**IN (…)**\tString exists in a list\tcol_name IN (\"A\", \"B\", \"C\")\n",
    "\n",
    "**NOT IN (…)**\tString does not exist in a list\tcol_name NOT IN (\"D\", \"E\", \"F\")"
   ]
  },
  {
   "cell_type": "code",
   "execution_count": null,
   "metadata": {
    "vscode": {
     "languageId": "sql"
    }
   },
   "outputs": [],
   "source": [
    "\"unique results\"\n",
    "SELECT DISTINCT column, another_column, …\n",
    "FROM mytable\n",
    "WHERE condition(s);"
   ]
  },
  {
   "cell_type": "code",
   "execution_count": null,
   "metadata": {
    "vscode": {
     "languageId": "sql"
    }
   },
   "outputs": [],
   "source": [
    "\"ordered results\"\n",
    "SELECT column, another_column, …\n",
    "FROM mytable\n",
    "WHERE condition(s)\n",
    "ORDER BY column ASC/DESC \"ezzel ordered col lesz\"\n",
    "LIMIT num_limit OFFSET num_offset; \"limit num of rows, offset honnan kezdi\""
   ]
  },
  {
   "cell_type": "markdown",
   "metadata": {},
   "source": [
    "## Multiple tables"
   ]
  },
  {
   "cell_type": "code",
   "execution_count": null,
   "metadata": {
    "vscode": {
     "languageId": "sql"
    }
   },
   "outputs": [],
   "source": [
    "\"Select query with INNER JOIN on multiple tables\"\n",
    "SELECT column, another_table_column, …\n",
    "FROM mytable\n",
    "INNER JOIN another_table \n",
    "    ON mytable.id = another_table.id\n",
    "WHERE condition(s)\n",
    "ORDER BY column, … ASC/DESC\n",
    "LIMIT num_limit OFFSET num_offset;"
   ]
  },
  {
   "cell_type": "markdown",
   "metadata": {},
   "source": [
    "**INNER JOIN** : megvan a sor mindkét táblában\n",
    "\n",
    "**LEFT JOIN** : minden sor A táblából, mindegy hogy B-ben megvan-e\n",
    "\n",
    "**RIGHT JOIN** :minden sor B táblából, mindegy hogy A-ban megvan-e\n",
    "\n",
    "**FULL JOIN** : minden marad, mindegy hogy van-e match"
   ]
  }
 ],
 "metadata": {
  "language_info": {
   "name": "python"
  }
 },
 "nbformat": 4,
 "nbformat_minor": 2
}
